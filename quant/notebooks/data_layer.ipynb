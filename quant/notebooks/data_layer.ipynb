{
 "cells": [
  {
   "cell_type": "code",
   "execution_count": 1,
   "metadata": {},
   "outputs": [
    {
     "name": "stderr",
     "output_type": "stream",
     "text": [
      "[19143:MainThread](2024-12-27 20:58:46,927) INFO - qlib.Initialization - [config.py:421] - default_conf: client.\n"
     ]
    },
    {
     "ename": "TypeError",
     "evalue": "ExpManager.__init__() got an unexpected keyword argument 'uri:'",
     "output_type": "error",
     "traceback": [
      "\u001b[0;31m---------------------------------------------------------------------------\u001b[0m",
      "\u001b[0;31mTypeError\u001b[0m                                 Traceback (most recent call last)",
      "File \u001b[0;32m~/projects/quant/qlib/qlib/utils/mod.py:180\u001b[0m, in \u001b[0;36minit_instance_by_config\u001b[0;34m(config, default_module, accept_types, try_kwargs, **kwargs)\u001b[0m\n\u001b[1;32m    179\u001b[0m \u001b[38;5;28;01mtry\u001b[39;00m:\n\u001b[0;32m--> 180\u001b[0m     \u001b[38;5;28;01mreturn\u001b[39;00m \u001b[43mklass\u001b[49m\u001b[43m(\u001b[49m\u001b[38;5;241;43m*\u001b[39;49m\u001b[38;5;241;43m*\u001b[39;49m\u001b[43mcls_kwargs\u001b[49m\u001b[43m,\u001b[49m\u001b[43m \u001b[49m\u001b[38;5;241;43m*\u001b[39;49m\u001b[38;5;241;43m*\u001b[39;49m\u001b[43mtry_kwargs\u001b[49m\u001b[43m,\u001b[49m\u001b[43m \u001b[49m\u001b[38;5;241;43m*\u001b[39;49m\u001b[38;5;241;43m*\u001b[39;49m\u001b[43mkwargs\u001b[49m\u001b[43m)\u001b[49m\n\u001b[1;32m    181\u001b[0m \u001b[38;5;28;01mexcept\u001b[39;00m (\u001b[38;5;167;01mTypeError\u001b[39;00m,):\n\u001b[1;32m    182\u001b[0m     \u001b[38;5;66;03m# TypeError for handling errors like\u001b[39;00m\n\u001b[1;32m    183\u001b[0m     \u001b[38;5;66;03m# 1: `XXX() got multiple values for keyword argument 'YYY'`\u001b[39;00m\n\u001b[1;32m    184\u001b[0m     \u001b[38;5;66;03m# 2: `XXX() got an unexpected keyword argument 'YYY'\u001b[39;00m\n",
      "\u001b[0;31mTypeError\u001b[0m: ExpManager.__init__() got an unexpected keyword argument 'uri:'",
      "\nDuring handling of the above exception, another exception occurred:\n",
      "\u001b[0;31mTypeError\u001b[0m                                 Traceback (most recent call last)",
      "Cell \u001b[0;32mIn[1], line 2\u001b[0m\n\u001b[1;32m      1\u001b[0m \u001b[38;5;28;01mimport\u001b[39;00m \u001b[38;5;21;01mqlib\u001b[39;00m\n\u001b[0;32m----> 2\u001b[0m \u001b[43mqlib\u001b[49m\u001b[38;5;241;43m.\u001b[39;49m\u001b[43minit\u001b[49m\u001b[43m(\u001b[49m\u001b[43mprovider_uri\u001b[49m\u001b[38;5;241;43m=\u001b[39;49m\u001b[38;5;124;43m'\u001b[39;49m\u001b[38;5;124;43m~/.qlib/qlib_data/forex_data_5min\u001b[39;49m\u001b[38;5;124;43m'\u001b[39;49m\u001b[43m)\u001b[49m\n",
      "File \u001b[0;32m~/projects/quant/qlib/qlib/__init__.py:70\u001b[0m, in \u001b[0;36minit\u001b[0;34m(default_conf, **kwargs)\u001b[0m\n\u001b[1;32m     67\u001b[0m     \u001b[38;5;28;01melse\u001b[39;00m:\n\u001b[1;32m     68\u001b[0m         \u001b[38;5;28;01mraise\u001b[39;00m \u001b[38;5;167;01mNotImplementedError\u001b[39;00m(\u001b[38;5;124mf\u001b[39m\u001b[38;5;124m\"\u001b[39m\u001b[38;5;124mThis type of URI is not supported\u001b[39m\u001b[38;5;124m\"\u001b[39m)\n\u001b[0;32m---> 70\u001b[0m \u001b[43mC\u001b[49m\u001b[38;5;241;43m.\u001b[39;49m\u001b[43mregister\u001b[49m\u001b[43m(\u001b[49m\u001b[43m)\u001b[49m\n\u001b[1;32m     72\u001b[0m \u001b[38;5;28;01mif\u001b[39;00m \u001b[38;5;124m\"\u001b[39m\u001b[38;5;124mflask_server\u001b[39m\u001b[38;5;124m\"\u001b[39m \u001b[38;5;129;01min\u001b[39;00m C:\n\u001b[1;32m     73\u001b[0m     logger\u001b[38;5;241m.\u001b[39minfo(\u001b[38;5;124mf\u001b[39m\u001b[38;5;124m\"\u001b[39m\u001b[38;5;124mflask_server=\u001b[39m\u001b[38;5;132;01m{\u001b[39;00mC[\u001b[38;5;124m'\u001b[39m\u001b[38;5;124mflask_server\u001b[39m\u001b[38;5;124m'\u001b[39m]\u001b[38;5;132;01m}\u001b[39;00m\u001b[38;5;124m, flask_port=\u001b[39m\u001b[38;5;132;01m{\u001b[39;00mC[\u001b[38;5;124m'\u001b[39m\u001b[38;5;124mflask_port\u001b[39m\u001b[38;5;124m'\u001b[39m]\u001b[38;5;132;01m}\u001b[39;00m\u001b[38;5;124m\"\u001b[39m)\n",
      "File \u001b[0;32m~/projects/quant/qlib/qlib/config.py:461\u001b[0m, in \u001b[0;36mQlibConfig.register\u001b[0;34m(self)\u001b[0m\n\u001b[1;32m    459\u001b[0m register_all_wrappers(\u001b[38;5;28mself\u001b[39m)\n\u001b[1;32m    460\u001b[0m \u001b[38;5;66;03m# set up QlibRecorder\u001b[39;00m\n\u001b[0;32m--> 461\u001b[0m exp_manager \u001b[38;5;241m=\u001b[39m \u001b[43minit_instance_by_config\u001b[49m\u001b[43m(\u001b[49m\u001b[38;5;28;43mself\u001b[39;49m\u001b[43m[\u001b[49m\u001b[38;5;124;43m\"\u001b[39;49m\u001b[38;5;124;43mexp_manager\u001b[39;49m\u001b[38;5;124;43m\"\u001b[39;49m\u001b[43m]\u001b[49m\u001b[43m)\u001b[49m\n\u001b[1;32m    462\u001b[0m qr \u001b[38;5;241m=\u001b[39m QlibRecorder(exp_manager)\n\u001b[1;32m    463\u001b[0m R\u001b[38;5;241m.\u001b[39mregister(qr)\n",
      "File \u001b[0;32m~/projects/quant/qlib/qlib/utils/mod.py:185\u001b[0m, in \u001b[0;36minit_instance_by_config\u001b[0;34m(config, default_module, accept_types, try_kwargs, **kwargs)\u001b[0m\n\u001b[1;32m    180\u001b[0m     \u001b[38;5;28;01mreturn\u001b[39;00m klass(\u001b[38;5;241m*\u001b[39m\u001b[38;5;241m*\u001b[39mcls_kwargs, \u001b[38;5;241m*\u001b[39m\u001b[38;5;241m*\u001b[39mtry_kwargs, \u001b[38;5;241m*\u001b[39m\u001b[38;5;241m*\u001b[39mkwargs)\n\u001b[1;32m    181\u001b[0m \u001b[38;5;28;01mexcept\u001b[39;00m (\u001b[38;5;167;01mTypeError\u001b[39;00m,):\n\u001b[1;32m    182\u001b[0m     \u001b[38;5;66;03m# TypeError for handling errors like\u001b[39;00m\n\u001b[1;32m    183\u001b[0m     \u001b[38;5;66;03m# 1: `XXX() got multiple values for keyword argument 'YYY'`\u001b[39;00m\n\u001b[1;32m    184\u001b[0m     \u001b[38;5;66;03m# 2: `XXX() got an unexpected keyword argument 'YYY'\u001b[39;00m\n\u001b[0;32m--> 185\u001b[0m     \u001b[38;5;28;01mreturn\u001b[39;00m \u001b[43mklass\u001b[49m\u001b[43m(\u001b[49m\u001b[38;5;241;43m*\u001b[39;49m\u001b[38;5;241;43m*\u001b[39;49m\u001b[43mcls_kwargs\u001b[49m\u001b[43m,\u001b[49m\u001b[43m \u001b[49m\u001b[38;5;241;43m*\u001b[39;49m\u001b[38;5;241;43m*\u001b[39;49m\u001b[43mkwargs\u001b[49m\u001b[43m)\u001b[49m\n",
      "\u001b[0;31mTypeError\u001b[0m: ExpManager.__init__() got an unexpected keyword argument 'uri:'"
     ]
    }
   ],
   "source": [
    "import qlib\n",
    "qlib.init(provider_uri='~/.qlib/qlib_data/forex_data_5min')"
   ]
  },
  {
   "cell_type": "code",
   "execution_count": 7,
   "metadata": {},
   "outputs": [
    {
     "data": {
      "text/plain": [
       "array([Timestamp('2022-01-03 00:00:00'), Timestamp('2022-01-04 00:00:00')],\n",
       "      dtype=object)"
      ]
     },
     "execution_count": 7,
     "metadata": {},
     "output_type": "execute_result"
    }
   ],
   "source": [
    "from qlib.data import D\n",
    "D.calendar(start_time='2022-01-01', end_time='2024-12-31', freq='day')[:2]"
   ]
  },
  {
   "cell_type": "code",
   "execution_count": null,
   "metadata": {},
   "outputs": [
    {
     "data": {
      "text/plain": [
       "{'market': 'all', 'filter_pipe': []}"
      ]
     },
     "execution_count": 8,
     "metadata": {},
     "output_type": "execute_result"
    }
   ],
   "source": [
    "from qlib.data import D\n",
    "D.instruments(market='all')"
   ]
  },
  {
   "cell_type": "code",
   "execution_count": 11,
   "metadata": {},
   "outputs": [
    {
     "data": {
      "text/plain": [
       "['AUDJPY', 'AUDNZD', 'AUDUSD', 'BITCOIN', 'CN50', 'CRUDE']"
      ]
     },
     "execution_count": 11,
     "metadata": {},
     "output_type": "execute_result"
    }
   ],
   "source": [
    "from qlib.data import D\n",
    "instruments = D.instruments(market='all')\n",
    "D.list_instruments(instruments=instruments,freq=\"5min\", start_time='2022-01-01', end_time='2024-12-31', as_list=True)[:6]"
   ]
  },
  {
   "cell_type": "code",
   "execution_count": 16,
   "metadata": {},
   "outputs": [
    {
     "name": "stdout",
     "output_type": "stream",
     "text": [
      "dataset_processor finshed\n"
     ]
    },
    {
     "data": {
      "text/html": [
       "<div>\n",
       "<style scoped>\n",
       "    .dataframe tbody tr th:only-of-type {\n",
       "        vertical-align: middle;\n",
       "    }\n",
       "\n",
       "    .dataframe tbody tr th {\n",
       "        vertical-align: top;\n",
       "    }\n",
       "\n",
       "    .dataframe thead th {\n",
       "        text-align: right;\n",
       "    }\n",
       "</style>\n",
       "<table border=\"1\" class=\"dataframe\">\n",
       "  <thead>\n",
       "    <tr style=\"text-align: right;\">\n",
       "      <th></th>\n",
       "      <th></th>\n",
       "      <th>$close</th>\n",
       "      <th>$volume</th>\n",
       "      <th>Ref($close, 1)</th>\n",
       "      <th>Mean($close, 3)</th>\n",
       "      <th>$high-$low</th>\n",
       "    </tr>\n",
       "    <tr>\n",
       "      <th>instrument</th>\n",
       "      <th>datetime</th>\n",
       "      <th></th>\n",
       "      <th></th>\n",
       "      <th></th>\n",
       "      <th></th>\n",
       "      <th></th>\n",
       "    </tr>\n",
       "  </thead>\n",
       "  <tbody>\n",
       "    <tr>\n",
       "      <th rowspan=\"5\" valign=\"top\">EURUSD</th>\n",
       "      <th>2022-01-03 00:05:00</th>\n",
       "      <td>1.13674</td>\n",
       "      <td>49.0</td>\n",
       "      <td>NaN</td>\n",
       "      <td>1.136740</td>\n",
       "      <td>0.00048</td>\n",
       "    </tr>\n",
       "    <tr>\n",
       "      <th>2022-01-03 00:10:00</th>\n",
       "      <td>1.13713</td>\n",
       "      <td>49.0</td>\n",
       "      <td>1.13674</td>\n",
       "      <td>1.136935</td>\n",
       "      <td>0.00060</td>\n",
       "    </tr>\n",
       "    <tr>\n",
       "      <th>2022-01-03 00:15:00</th>\n",
       "      <td>1.13719</td>\n",
       "      <td>43.0</td>\n",
       "      <td>1.13713</td>\n",
       "      <td>1.137020</td>\n",
       "      <td>0.00024</td>\n",
       "    </tr>\n",
       "    <tr>\n",
       "      <th>2022-01-03 00:20:00</th>\n",
       "      <td>1.13708</td>\n",
       "      <td>26.0</td>\n",
       "      <td>1.13719</td>\n",
       "      <td>1.137133</td>\n",
       "      <td>0.00021</td>\n",
       "    </tr>\n",
       "    <tr>\n",
       "      <th>2022-01-03 00:25:00</th>\n",
       "      <td>1.13708</td>\n",
       "      <td>35.0</td>\n",
       "      <td>1.13708</td>\n",
       "      <td>1.137117</td>\n",
       "      <td>0.00025</td>\n",
       "    </tr>\n",
       "  </tbody>\n",
       "</table>\n",
       "</div>"
      ],
      "text/plain": [
       "                                 $close  $volume  Ref($close, 1)  \\\n",
       "instrument datetime                                                \n",
       "EURUSD     2022-01-03 00:05:00  1.13674     49.0             NaN   \n",
       "           2022-01-03 00:10:00  1.13713     49.0         1.13674   \n",
       "           2022-01-03 00:15:00  1.13719     43.0         1.13713   \n",
       "           2022-01-03 00:20:00  1.13708     26.0         1.13719   \n",
       "           2022-01-03 00:25:00  1.13708     35.0         1.13708   \n",
       "\n",
       "                                Mean($close, 3)  $high-$low  \n",
       "instrument datetime                                          \n",
       "EURUSD     2022-01-03 00:05:00         1.136740     0.00048  \n",
       "           2022-01-03 00:10:00         1.136935     0.00060  \n",
       "           2022-01-03 00:15:00         1.137020     0.00024  \n",
       "           2022-01-03 00:20:00         1.137133     0.00021  \n",
       "           2022-01-03 00:25:00         1.137117     0.00025  "
      ]
     },
     "execution_count": 16,
     "metadata": {},
     "output_type": "execute_result"
    }
   ],
   "source": [
    "\n",
    "instruments = ['EURUSD']\n",
    "fields = ['$close', '$volume', 'Ref($close, 1)', 'Mean($close, 3)', '$high-$low']\n",
    "D.features(instruments, fields, start_time='2022-01-01', end_time='2024-12-31', freq='5min').head()"
   ]
  }
 ],
 "metadata": {
  "kernelspec": {
   "display_name": "quant",
   "language": "python",
   "name": "python3"
  },
  "language_info": {
   "codemirror_mode": {
    "name": "ipython",
    "version": 3
   },
   "file_extension": ".py",
   "mimetype": "text/x-python",
   "name": "python",
   "nbconvert_exporter": "python",
   "pygments_lexer": "ipython3",
   "version": "3.10.15"
  }
 },
 "nbformat": 4,
 "nbformat_minor": 2
}
