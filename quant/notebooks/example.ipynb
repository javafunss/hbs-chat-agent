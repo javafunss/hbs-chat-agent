{
 "cells": [
  {
   "cell_type": "code",
   "execution_count": 1,
   "metadata": {},
   "outputs": [
    {
     "name": "stdout",
     "output_type": "stream",
     "text": [
      "ModuleNotFoundError. CatBoostModel are skipped. (optional: maybe installing CatBoostModel can fix it.)\n",
      "ModuleNotFoundError. XGBModel is skipped(optional: maybe installing xgboost can fix it).\n"
     ]
    },
    {
     "ename": "ImportError",
     "evalue": "cannot import name 'Model' from 'qlib.contrib.model' (/Users/admin/projects/quant/qlib/qlib/contrib/model/__init__.py)",
     "output_type": "error",
     "traceback": [
      "\u001b[0;31m---------------------------------------------------------------------------\u001b[0m",
      "\u001b[0;31mImportError\u001b[0m                               Traceback (most recent call last)",
      "Cell \u001b[0;32mIn[1], line 3\u001b[0m\n\u001b[1;32m      1\u001b[0m \u001b[38;5;28;01mfrom\u001b[39;00m \u001b[38;5;21;01mqlib\u001b[39;00m\u001b[38;5;21;01m.\u001b[39;00m\u001b[38;5;21;01mcontrib\u001b[39;00m\u001b[38;5;21;01m.\u001b[39;00m\u001b[38;5;21;01mdata\u001b[39;00m\u001b[38;5;21;01m.\u001b[39;00m\u001b[38;5;21;01mhandler\u001b[39;00m \u001b[38;5;28;01mimport\u001b[39;00m Alpha158\n\u001b[1;32m      2\u001b[0m \u001b[38;5;28;01mfrom\u001b[39;00m \u001b[38;5;21;01mqlib\u001b[39;00m\u001b[38;5;21;01m.\u001b[39;00m\u001b[38;5;21;01mcontrib\u001b[39;00m\u001b[38;5;21;01m.\u001b[39;00m\u001b[38;5;21;01mdata\u001b[39;00m\u001b[38;5;21;01m.\u001b[39;00m\u001b[38;5;21;01mdataset\u001b[39;00m \u001b[38;5;28;01mimport\u001b[39;00m DatasetH\n\u001b[0;32m----> 3\u001b[0m \u001b[38;5;28;01mfrom\u001b[39;00m \u001b[38;5;21;01mqlib\u001b[39;00m\u001b[38;5;21;01m.\u001b[39;00m\u001b[38;5;21;01mcontrib\u001b[39;00m\u001b[38;5;21;01m.\u001b[39;00m\u001b[38;5;21;01mmodel\u001b[39;00m \u001b[38;5;28;01mimport\u001b[39;00m Model\n\u001b[1;32m      4\u001b[0m \u001b[38;5;28;01mfrom\u001b[39;00m \u001b[38;5;21;01mqlib\u001b[39;00m\u001b[38;5;21;01m.\u001b[39;00m\u001b[38;5;21;01mcontrib\u001b[39;00m\u001b[38;5;21;01m.\u001b[39;00m\u001b[38;5;21;01mstrategy\u001b[39;00m \u001b[38;5;28;01mimport\u001b[39;00m TopkDropoutStrategy\n\u001b[1;32m      5\u001b[0m \u001b[38;5;28;01mfrom\u001b[39;00m \u001b[38;5;21;01mqlib\u001b[39;00m\u001b[38;5;21;01m.\u001b[39;00m\u001b[38;5;21;01mcontrib\u001b[39;00m\u001b[38;5;21;01m.\u001b[39;00m\u001b[38;5;21;01mevaluate\u001b[39;00m \u001b[38;5;28;01mimport\u001b[39;00m backtest, risk_analysis\n",
      "\u001b[0;31mImportError\u001b[0m: cannot import name 'Model' from 'qlib.contrib.model' (/Users/admin/projects/quant/qlib/qlib/contrib/model/__init__.py)"
     ]
    }
   ],
   "source": [
    "from qlib.contrib.data.handler import Alpha158\n",
    "from qlib.contrib.data.dataset import DatasetH\n",
    "from qlib.contrib.model import Model\n",
    "from qlib.contrib.strategy import TopkDropoutStrategy\n",
    "from qlib.contrib.evaluate import backtest, risk_analysis\n",
    "\n",
    "# 自定义动量因子\n",
    "class MomentumFactor(Alpha158):\n",
    "    def __init__(self, **kwargs):\n",
    "        super(MomentumFactor, self).__init__(**kwargs)\n",
    "    \n",
    "    def get_feature_config(self):\n",
    "        # 假设我们使用过去20天的收益率作为动量因子\n",
    "        return {\"MOMENTUM_20\": {\"windows\": [20]}}\n",
    "\n",
    "# 数据集配置\n",
    "dataset = DatasetH(\n",
    "    handler=MomentumFactor(),\n",
    "    segments={\"train\": (\"2020-01-01\", \"2020-12-31\"), \"test\": (\"2021-01-01\", \"2021-12-31\")}\n",
    ")\n",
    "\n",
    "# 模型训练与预测\n",
    "model = Model()\n",
    "model.fit(dataset)\n",
    "prediction = model.predict(dataset)\n",
    "\n",
    "# 策略执行与回测\n",
    "strategy = TopkDropoutStrategy(topk=50, dropout=0.2)\n",
    "portfolio = strategy.generate_portfolio(prediction)\n",
    "report, positions = backtest(portfolio)\n",
    "\n",
    "# 风险分析\n",
    "risk_report = risk_analysis(positions)\n",
    "print(risk_report)"
   ]
  }
 ],
 "metadata": {
  "kernelspec": {
   "display_name": "quant",
   "language": "python",
   "name": "python3"
  },
  "language_info": {
   "codemirror_mode": {
    "name": "ipython",
    "version": 3
   },
   "file_extension": ".py",
   "mimetype": "text/x-python",
   "name": "python",
   "nbconvert_exporter": "python",
   "pygments_lexer": "ipython3",
   "version": "3.10.15"
  }
 },
 "nbformat": 4,
 "nbformat_minor": 2
}
