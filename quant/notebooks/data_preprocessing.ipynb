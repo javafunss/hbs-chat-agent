{
 "cells": [
  {
   "cell_type": "code",
   "execution_count": 1,
   "metadata": {},
   "outputs": [
    {
     "ename": "ModuleNotFoundError",
     "evalue": "No module named 'src'",
     "output_type": "error",
     "traceback": [
      "\u001b[0;31m---------------------------------------------------------------------------\u001b[0m",
      "\u001b[0;31mModuleNotFoundError\u001b[0m                       Traceback (most recent call last)",
      "Cell \u001b[0;32mIn[1], line 1\u001b[0m\n\u001b[0;32m----> 1\u001b[0m \u001b[38;5;28;01mfrom\u001b[39;00m \u001b[38;5;21;01msrc\u001b[39;00m\u001b[38;5;21;01m.\u001b[39;00m\u001b[38;5;21;01mdata\u001b[39;00m\u001b[38;5;21;01m.\u001b[39;00m\u001b[38;5;21;01mdata_loader\u001b[39;00m \u001b[38;5;28;01mimport\u001b[39;00m load_data\n\u001b[1;32m      2\u001b[0m \u001b[38;5;28;01mfrom\u001b[39;00m \u001b[38;5;21;01msrc\u001b[39;00m\u001b[38;5;21;01m.\u001b[39;00m\u001b[38;5;21;01mfeatures\u001b[39;00m\u001b[38;5;21;01m.\u001b[39;00m\u001b[38;5;21;01mfeature_extractor\u001b[39;00m \u001b[38;5;28;01mimport\u001b[39;00m preprocess_data\n\u001b[1;32m      4\u001b[0m \u001b[38;5;66;03m# 加载1分钟数据\u001b[39;00m\n",
      "\u001b[0;31mModuleNotFoundError\u001b[0m: No module named 'src'"
     ]
    }
   ],
   "source": [
    "from src.data.data_loader import load_data\n",
    "from src.features.feature_extractor import preprocess_data\n",
    "\n",
    "# 加载1分钟数据\n",
    "df_1min = load_data('data/raw/forex_1min.csv')\n",
    "\n",
    "# 预处理数据\n",
    "df_1min_processed = preprocess_data(df_1min)\n",
    "\n",
    "# 保存预处理后的数据\n",
    "df_1min_processed.to_csv('data/processed/forex_1min_processed.csv')\n",
    "\n",
    "# 转换为5分钟数据\n",
    "df_5min = df_1min_processed.resample('5T').agg({\n",
    "    'open': 'first',\n",
    "    'high': 'max',\n",
    "    'low': 'min',\n",
    "    'close': 'last',\n",
    "    'volume': 'sum',\n",
    "    'macd': 'last',\n",
    "    'macd_signal': 'last',\n",
    "    'macd_hist': 'last',\n",
    "    'rsi': 'last',\n",
    "    'upper_band': 'last',\n",
    "    'middle_band': 'last',\n",
    "    'lower_band': 'last',\n",
    "    'hour': 'last',\n",
    "    'dayofweek': 'last',\n",
    "    'month': 'last'\n",
    "}).dropna()\n",
    "\n",
    "# 保存5分钟数据\n",
    "df_5min.to_csv('data/processed/forex_5min.csv')\n",
    "\n",
    "# 转换为15分钟数据\n",
    "df_15min = df_1min_processed.resample('15T').agg({\n",
    "    'open': 'first',\n",
    "    'high': 'max',\n",
    "    'low': 'min',\n",
    "    'close': 'last',\n",
    "    'volume': 'sum',\n",
    "    'macd': 'last',\n",
    "    'macd_signal': 'last',\n",
    "    'macd_hist': 'last',\n",
    "    'rsi': 'last',\n",
    "    'upper_band': 'last',\n",
    "    'middle_band': 'last',\n",
    "    'lower_band': 'last',\n",
    "    'hour': 'last',\n",
    "    'dayofweek': 'last',\n",
    "    'month': 'last'\n",
    "}).dropna()\n",
    "\n",
    "# 保存15分钟数据\n",
    "df_15min.to_csv('data/processed/forex_15min.csv')"
   ]
  }
 ],
 "metadata": {
  "kernelspec": {
   "display_name": "quant",
   "language": "python",
   "name": "python3"
  },
  "language_info": {
   "codemirror_mode": {
    "name": "ipython",
    "version": 3
   },
   "file_extension": ".py",
   "mimetype": "text/x-python",
   "name": "python",
   "nbconvert_exporter": "python",
   "pygments_lexer": "ipython3",
   "version": "3.10.15"
  }
 },
 "nbformat": 4,
 "nbformat_minor": 2
}
